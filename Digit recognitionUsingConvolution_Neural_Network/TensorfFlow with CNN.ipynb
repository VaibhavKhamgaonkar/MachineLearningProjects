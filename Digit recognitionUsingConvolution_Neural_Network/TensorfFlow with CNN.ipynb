{
 "cells": [
  {
   "cell_type": "code",
   "execution_count": 1,
   "metadata": {
    "collapsed": true
   },
   "outputs": [],
   "source": [
    "import tensorflow as tf"
   ]
  },
  {
   "cell_type": "code",
   "execution_count": 3,
   "metadata": {
    "collapsed": true
   },
   "outputs": [],
   "source": [
    "from tensorflow.examples.tutorials.mnist import input_data"
   ]
  },
  {
   "cell_type": "code",
   "execution_count": 4,
   "metadata": {},
   "outputs": [
    {
     "name": "stdout",
     "output_type": "stream",
     "text": [
      "Extracting MNIST_data/train-images-idx3-ubyte.gz\n",
      "Extracting MNIST_data/train-labels-idx1-ubyte.gz\n",
      "Extracting MNIST_data/t10k-images-idx3-ubyte.gz\n",
      "Extracting MNIST_data/t10k-labels-idx1-ubyte.gz\n"
     ]
    }
   ],
   "source": [
    "#getting the data from the directory\n",
    "mnist = input_data.read_data_sets('MNIST_data/',one_hot=True)"
   ]
  },
  {
   "cell_type": "markdown",
   "metadata": {},
   "source": [
    "# Helper Function"
   ]
  },
  {
   "cell_type": "code",
   "execution_count": 45,
   "metadata": {
    "collapsed": true
   },
   "outputs": [],
   "source": [
    "def init_wt(shape):\n",
    "    init_random_dist = tf.truncated_normal(shape=shape,stddev=0.1)\n",
    "    return tf.Variable(init_random_dist)"
   ]
  },
  {
   "cell_type": "code",
   "execution_count": 7,
   "metadata": {
    "collapsed": true
   },
   "outputs": [],
   "source": [
    "def init_base (shape):\n",
    "    init_base = tf.constant(0.1,shape=shape)\n",
    "    return tf.Variable(init_base)"
   ]
  },
  {
   "cell_type": "code",
   "execution_count": 9,
   "metadata": {
    "collapsed": true
   },
   "outputs": [],
   "source": [
    "def conv2d (x, W):\n",
    "    return tf.nn.conv2d(x,W,strides=[1,1,1,1], padding= \"SAME\")"
   ]
  },
  {
   "cell_type": "code",
   "execution_count": 10,
   "metadata": {
    "collapsed": true
   },
   "outputs": [],
   "source": [
    "def max_pool(x):\n",
    "    return tf.nn.max_pool(x,ksize=[1,2,2,1],strides=[1,2,2,1], padding= \"SAME\")"
   ]
  },
  {
   "cell_type": "code",
   "execution_count": 33,
   "metadata": {
    "collapsed": true
   },
   "outputs": [],
   "source": [
    "def convolution_Layer (input_x, shape):\n",
    "    W = init_wt(shape)\n",
    "    b = init_base([shape[3]])\n",
    "    return tf.nn.relu(conv2d(input_x, W)+b)"
   ]
  },
  {
   "cell_type": "code",
   "execution_count": 34,
   "metadata": {
    "collapsed": true
   },
   "outputs": [],
   "source": [
    "# full Normal layer\n",
    "def normal_layer(input_layer,size):\n",
    "    input_size = int(input_layer.get_shape()[1])\n",
    "    W = init_wt([input_size, size])\n",
    "    b = init_base([size])\n",
    "    return tf.matmul(input_layer, W) + b"
   ]
  },
  {
   "cell_type": "markdown",
   "metadata": {},
   "source": [
    "# Placeholder and normal Tensorflow operation"
   ]
  },
  {
   "cell_type": "code",
   "execution_count": 28,
   "metadata": {
    "collapsed": true
   },
   "outputs": [],
   "source": [
    "X = tf.placeholder(dtype=tf.float32,shape=[None,784])\n",
    "y_true = tf.placeholder(dtype=tf.float32,shape=[None,10])"
   ]
  },
  {
   "cell_type": "code",
   "execution_count": 29,
   "metadata": {
    "collapsed": true
   },
   "outputs": [],
   "source": [
    "#Layers\n",
    "\n",
    "X_image = tf.reshape(X, shape=[-1,28,28,1])\n"
   ]
  },
  {
   "cell_type": "code",
   "execution_count": 35,
   "metadata": {
    "collapsed": true
   },
   "outputs": [],
   "source": [
    "#Convulution 1 layer\n",
    "conv1_layer = convolution_Layer(X_image,shape=[6,6,1,32])\n",
    "conv1_pool = max_pool(conv1_layer)"
   ]
  },
  {
   "cell_type": "code",
   "execution_count": 37,
   "metadata": {
    "collapsed": true
   },
   "outputs": [],
   "source": [
    "#convolution layer 2\n",
    "conv2_layer = convolution_Layer(conv1_pool,shape=[6,6,32,64])\n",
    "conv2_pool = max_pool(conv2_layer)"
   ]
  },
  {
   "cell_type": "code",
   "execution_count": 38,
   "metadata": {
    "collapsed": true
   },
   "outputs": [],
   "source": [
    "#final Layer\n",
    "\n",
    "conv_flat = tf.reshape(conv2_pool,shape=[-1,7*7*64])\n",
    "full_layer = tf.nn.relu(normal_layer(conv_flat,size=1024))\n"
   ]
  },
  {
   "cell_type": "code",
   "execution_count": 39,
   "metadata": {
    "collapsed": true
   },
   "outputs": [],
   "source": [
    "#Hold on Prob\n",
    "hold_prob = tf.placeholder(dtype=tf.float32)\n",
    "full_one_dropout = tf.nn.dropout(x=full_layer,keep_prob=hold_prob)"
   ]
  },
  {
   "cell_type": "code",
   "execution_count": 40,
   "metadata": {
    "collapsed": true
   },
   "outputs": [],
   "source": [
    "y_pred = normal_layer(full_one_dropout,10)"
   ]
  },
  {
   "cell_type": "code",
   "execution_count": 59,
   "metadata": {
    "collapsed": true
   },
   "outputs": [],
   "source": [
    "#optimie\n",
    "cross_entropy = tf.reduce_mean(tf.nn.softmax_cross_entropy_with_logits(labels=y_true,logits=y_pred))\n",
    "optim = tf.train.AdamOptimizer(learning_rate=0.001)\n",
    "train = optim.minimize(cross_entropy)"
   ]
  },
  {
   "cell_type": "code",
   "execution_count": 61,
   "metadata": {
    "collapsed": true
   },
   "outputs": [],
   "source": [
    "#initialoise global variable\n",
    "init = tf.global_variables_initializer()"
   ]
  },
  {
   "cell_type": "code",
   "execution_count": 62,
   "metadata": {},
   "outputs": [
    {
     "name": "stdout",
     "output_type": "stream",
     "text": [
      "0.1037\n",
      "0.855\n",
      "0.9097\n",
      "0.9261\n",
      "0.9318\n",
      "0.9449\n",
      "0.9482\n",
      "0.9522\n",
      "0.9526\n",
      "0.9549\n",
      "0.9584\n",
      "0.9589\n",
      "0.9599\n",
      "0.9633\n",
      "0.9635\n",
      "0.9644\n",
      "0.9658\n",
      "0.9662\n",
      "0.9661\n",
      "0.9667\n",
      "0.966\n",
      "0.9669\n",
      "0.967\n",
      "0.9705\n",
      "0.9679\n",
      "0.9692\n",
      "0.9698\n",
      "0.9691\n",
      "0.9698\n",
      "0.9703\n",
      "0.9727\n",
      "0.972\n",
      "0.9723\n",
      "0.97\n",
      "0.9699\n",
      "0.9711\n",
      "0.9716\n",
      "0.9716\n",
      "0.9723\n",
      "0.9736\n",
      "0.9716\n",
      "0.9728\n",
      "0.9732\n",
      "0.9742\n",
      "0.9742\n",
      "0.9747\n",
      "0.9745\n",
      "0.976\n",
      "0.9759\n",
      "0.9736\n"
     ]
    }
   ],
   "source": [
    "#Processing on CPU\n",
    "\n",
    "with tf.Session() as sess:\n",
    "    steps = 5000\n",
    "    sess.run(init)\n",
    "    for step in range(steps):\n",
    "        batch_x,batch_y = mnist.train.next_batch(50)\n",
    "        \n",
    "        sess.run(train, feed_dict={X:batch_x,y_true:batch_y,hold_prob:0.5})\n",
    "        \n",
    "        if step%100 ==0:\n",
    "            \n",
    "            matches = tf.equal(tf.argmax(y_pred,1),tf.argmax(y_true,1))\n",
    "            acc = tf.reduce_mean(tf.cast(matches,dtype=tf.float32))\n",
    "            \n",
    "            print(sess.run(acc,feed_dict = {X : mnist.test.images, y_true : mnist.test.labels,hold_prob:1.0}))\n",
    "    \n",
    "    "
   ]
  },
  {
   "cell_type": "code",
   "execution_count": null,
   "metadata": {},
   "outputs": [],
   "source": [
    "#Processing on GPU\n",
    "\n",
    "#sess = tf.Session(config=tf.ConfigProto(allow_soft_placement=True, log_device_placement=True))\n",
    "config = tf.ConfigProto()\n",
    "config.gpu_options.allow_growth = True\n",
    "sess = tf.Session(config=config)\n",
    "\n",
    "steps = 5000\n",
    "sess.run(init)\n",
    "for step in range(steps):\n",
    "    batch_x,batch_y = mnist.train.next_batch(100)\n",
    "\n",
    "    sess.run(train, feed_dict={X:batch_x,y_true:batch_y,hold_prob:0.5})\n",
    "    # PRINT OUT A MESSAGE EVERY 100 STEPS\n",
    "    #print('started step {}'.format(step))\n",
    "    if step%100 == 0:\n",
    "        print('Currently on step {}'.format(step))\n",
    "        print('Accuracy is:')\n",
    "        matches = tf.equal(tf.argmax(y_pred,1),tf.argmax(y_true,1))\n",
    "        acc = tf.reduce_mean(tf.cast(matches,dtype=tf.float32))\n",
    "\n",
    "        print(sess.run(acc,feed_dict = {X : mnist.test.images, y_true : mnist.test.labels,hold_prob:1.0}))\n",
    "    \n",
    "    "
   ]
  },
  {
   "cell_type": "code",
   "execution_count": 67,
   "metadata": {},
   "outputs": [
    {
     "data": {
      "text/plain": [
       "<tf.Tensor 'Mean_121:0' shape=() dtype=float32>"
      ]
     },
     "execution_count": 67,
     "metadata": {},
     "output_type": "execute_result"
    }
   ],
   "source": [
    "acc"
   ]
  },
  {
   "cell_type": "code",
   "execution_count": null,
   "metadata": {
    "collapsed": true
   },
   "outputs": [],
   "source": []
  },
  {
   "cell_type": "code",
   "execution_count": null,
   "metadata": {
    "collapsed": true
   },
   "outputs": [],
   "source": []
  }
 ],
 "metadata": {
  "kernelspec": {
   "display_name": "Python 3",
   "language": "python",
   "name": "python3"
  },
  "language_info": {
   "codemirror_mode": {
    "name": "ipython",
    "version": 3
   },
   "file_extension": ".py",
   "mimetype": "text/x-python",
   "name": "python",
   "nbconvert_exporter": "python",
   "pygments_lexer": "ipython3",
   "version": "3.5.4"
  }
 },
 "nbformat": 4,
 "nbformat_minor": 2
}
